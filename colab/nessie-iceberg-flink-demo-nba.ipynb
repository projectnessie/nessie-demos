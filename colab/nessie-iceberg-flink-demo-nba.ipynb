{
 "cells": [
  {
   "cell_type": "markdown",
   "metadata": {},
   "source": [
    "Nessie Flink Demo with NBA Dataset\n",
    "============================\n",
    "This demo showcases how to use Nessie Python API along with Flink from Iceberg\n",
    "\n",
    "Initialize Nessie environment\n",
    "----------------------------------------------\n",
    "To get started, we will first have to do a few setup steps that give us everything we need\n",
    "to get started with Nessie. The `nessiedemo` lib configures all required dependencies, downloads and\n",
    "configures Flink.\n",
    "In case you're interested in the detailed setup steps for Flink, you can check out the source code\n",
    "of the `nessiedemo` lib [here](https://github.com/projectnessie/nessie-demos/blob/main/pydemolib/nessiedemo/flink.py)."
   ]
  },
  {
   "cell_type": "code",
   "execution_count": null,
   "metadata": {
    "pycharm": {
     "name": "#%%\n"
    }
   },
   "outputs": [],
   "source": [
    "# install the nessiedemo lib, which configures all required dependencies\n",
    "!pip install -i https://test.pypi.org/simple/ nessiedemo\n"
   ]
  },
  {
   "cell_type": "code",
   "execution_count": null,
   "metadata": {
    "pycharm": {
     "name": "#%%\n"
    }
   },
   "outputs": [],
   "source": [
    "# Setup the Demo: installs the required Python dependencies, downloads the sample datasets and\n",
    "# downloads + starts the Nessie-Quarkus-Runner.\n",
    "from nessiedemo.demo import setup_demo\n",
    "demo = setup_demo(\"in-development/nessie-0.6-iceberg-flink-0.12.yml\", [\"nba\"])\n",
    "\n",
    "# This is separate, because NessieDemo.prepare() via .start() implicitly installs the required dependencies.\n",
    "# Downloads Flink, and sets up a default table_env that points to `main`\n",
    "from nessiedemo.flink import flink_for_demo\n",
    "table_env, demo_flink = flink_for_demo(demo)"
   ]
  },
  {
   "cell_type": "markdown",
   "metadata": {},
   "source": [
    "Set up Nessie branches (via Nessie CLI)\n",
    "----------------------------\n",
    "Once all dependencies are configured, we can get started with `Nessie` by using the\n",
    "Nessie CLI, which allows interaction with Nessie branches and tables. We'll get started with the following steps:\n",
    "\n",
    "- Create a new branch named `dev`\n",
    "- List all branches\n",
    "\n",
    "It is worth mentioning that we don't have to explicitly create a `main` branch, since it's the default branch."
   ]
  },
  {
   "cell_type": "code",
   "execution_count": null,
   "metadata": {},
   "outputs": [],
   "source": [
    "# Create a new `dev` branch\n",
    "!nessie branch dev\n",
    "\n",
    "# Table environment for `dev` branch, which will be used later on\n",
    "dev_table_env = demo_flink.table_env_for_ref(\"dev\")"
   ]
  },
  {
   "cell_type": "code",
   "execution_count": null,
   "metadata": {},
   "outputs": [],
   "source": [
    "# List all branches with their revisions. We should see the `main` & `dev` branches.\n",
    "!nessie --verbose branch"
   ]
  },
  {
   "cell_type": "markdown",
   "metadata": {},
   "source": [
    "Create tables under dev branch\n",
    "-------------------------------------\n",
    "Once we created the `dev` branch and verified that it exists, we can use the `dev_table_env` Table environment (that points to the `dev` branch)\n",
    "to create some tables and add some data.\n",
    "\n",
    "We create two tables under the `dev` branch using the `dev_table_env`:\n",
    "- `salaries`\n",
    "- `totals_stats`\n"
   ]
  },
  {
   "cell_type": "code",
   "execution_count": null,
   "metadata": {},
   "outputs": [],
   "source": [
    "# Load the dataset\n",
    "dataset = demo.fetch_dataset(\"nba\")\n",
    "\n",
    "from pyflink.table import DataTypes\n",
    "from pyflink.table.descriptors import Schema, OldCsv, FileSystem\n",
    "\n",
    "# Creating `salaries` table\n",
    "dev_table_env.connect(FileSystem().path(dataset['salaries.csv']))\\\n",
    "  .with_format(OldCsv()\n",
    "               .field('Season', DataTypes.STRING()).field(\"Team\", DataTypes.STRING())\n",
    "               .field(\"Salary\", DataTypes.STRING()).field(\"Player\", DataTypes.STRING()))\\\n",
    "  .with_schema(Schema()\n",
    "               .field('Season', DataTypes.STRING()).field(\"Team\", DataTypes.STRING())\n",
    "               .field(\"Salary\", DataTypes.STRING()).field(\"Player\", DataTypes.STRING()))\\\n",
    "  .create_temporary_table('nessie.nba.salaries_temp')\n",
    "\n",
    "dev_table_env.execute_sql(\n",
    "        \"CREATE TABLE IF NOT EXISTS nessie.nba.salaries (Season STRING, Team STRING, Salary STRING, Player STRING)\").wait()\n",
    "\n",
    "tab = dev_table_env.from_path('nessie.nba.salaries_temp')\n",
    "tab.select(tab.Season, tab.Team, tab.Salary, tab.Player).execute_insert('nessie.nba.salaries').wait()\n",
    "\n",
    "# Creating `totals_stats` table\n",
    "dev_table_env.connect(FileSystem().path(dataset['totals_stats.csv']))\\\n",
    "  .with_format(OldCsv()\n",
    "               .field('Season', DataTypes.STRING()).field(\"Age\", DataTypes.STRING()).field(\"Team\", DataTypes.STRING())\n",
    "               .field(\"ORB\", DataTypes.STRING()).field(\"DRB\", DataTypes.STRING()).field(\"TRB\", DataTypes.STRING())\n",
    "               .field(\"AST\", DataTypes.STRING()).field(\"STL\", DataTypes.STRING()).field(\"BLK\", DataTypes.STRING())\n",
    "               .field(\"TOV\", DataTypes.STRING()).field(\"PTS\", DataTypes.STRING()).field(\"Player\", DataTypes.STRING())\n",
    "               .field(\"RSorPO\", DataTypes.STRING()))\\\n",
    "  .with_schema(Schema()\n",
    "               .field('Season', DataTypes.STRING()).field(\"Age\", DataTypes.STRING()).field(\"Team\", DataTypes.STRING())\n",
    "               .field(\"ORB\", DataTypes.STRING()).field(\"DRB\", DataTypes.STRING()).field(\"TRB\", DataTypes.STRING())\n",
    "               .field(\"AST\", DataTypes.STRING()).field(\"STL\", DataTypes.STRING()).field(\"BLK\", DataTypes.STRING())\n",
    "               .field(\"TOV\", DataTypes.STRING()).field(\"PTS\", DataTypes.STRING()).field(\"Player\", DataTypes.STRING())\n",
    "               .field(\"RSorPO\", DataTypes.STRING()))\\\n",
    "  .create_temporary_table('nessie.nba.totals_stats_temp')\n",
    "\n",
    "dev_table_env.execute_sql(\n",
    "        \"CREATE TABLE IF NOT EXISTS nessie.nba.totals_stats (Season STRING, Age STRING, Team STRING, \\\n",
    "        ORB STRING, DRB STRING, TRB STRING, AST STRING, STL STRING, BLK STRING, TOV STRING, PTS STRING, \\\n",
    "        Player STRING, RSorPO STRING)\").wait()\n",
    "\n",
    "tab = dev_table_env.from_path('nessie.nba.totals_stats_temp')\n",
    "tab.select(tab.Season, tab.Age, tab.Team, tab.ORB, tab.DRB, tab.TRB, \n",
    "           tab.AST, tab.STL, tab.BLK, tab.TOV, tab.PTS, tab.Player, tab.RSorPO).execute_insert('nessie.nba.totals_stats').wait()\n"
   ]
  },
  {
   "cell_type": "code",
   "execution_count": null,
   "metadata": {
    "jupyter": {
     "outputs_hidden": false
    },
    "pycharm": {
     "name": "#%%\n"
    }
   },
   "outputs": [],
   "source": [
    "# Ideally we would like to use a SQL to print results, such as\n",
    "# table_env.execute_sql(\"SELECT * FROM nessie.nba.`salaries@dev`\").print()\n",
    "# Unfortunately the .print() function only prints the output to STDOUT and not to the Notebook. \n",
    "# Therefore, we will use Flink's Table API to get the Table and print it's output\n",
    "\n",
    "# Notice how we view the data of the salaries table on the `dev` branch via `@dev` via the\n",
    "# `table_env`, which itself points to the `main` branch.\n",
    "# We could achieve the same via the below Table API call via the `dev_table_env`, \n",
    "# which points to the `dev` branch.\n",
    "# dev_table_env.from_path('nessie.nba.salaries').to_pandas()\n",
    "\n",
    "table_env.from_path('nessie.nba.`salaries@dev`').to_pandas()"
   ]
  },
  {
   "cell_type": "markdown",
   "metadata": {},
   "source": [
    "Check generated tables\n",
    "----------------------------\n",
    "Since we have been working solely on the `dev` branch, where we created 2 tables and added some data,\n",
    "let's verify that the `main` branch was not altered by our changes."
   ]
  },
  {
   "cell_type": "code",
   "execution_count": null,
   "metadata": {
    "jupyter": {
     "outputs_hidden": false
    },
    "pycharm": {
     "name": "#%%\n"
    }
   },
   "outputs": [],
   "source": [
    "# There are no tables on the `main` branch\n",
    "!nessie contents --list"
   ]
  },
  {
   "cell_type": "code",
   "execution_count": null,
   "metadata": {},
   "outputs": [],
   "source": [
    "# We should see the `salaries` & `totals_stats` tables on the dev branch\n",
    "!nessie contents --list --ref dev"
   ]
  },
  {
   "cell_type": "markdown",
   "metadata": {
    "pycharm": {
     "name": "#%% md\n"
    }
   },
   "source": [
    "We can also verify that the `dev` and `main` branches point to different commits"
   ]
  },
  {
   "cell_type": "code",
   "execution_count": null,
   "metadata": {},
   "outputs": [],
   "source": [
    "# List all branches with their revisions, where the revision of `main` should be different from `dev`\n",
    "!nessie --verbose branch"
   ]
  },
  {
   "cell_type": "markdown",
   "metadata": {},
   "source": [
    "Dev promotion into main\n",
    "-----------------------\n",
    "Once we are done with our changes on the `dev` branch, we would like to merge those changes into `main`.\n",
    "We merge `dev` into `main` via the Nessie CLI.\n",
    "Both branches should be at the same revision after merging/promotion."
   ]
  },
  {
   "cell_type": "code",
   "execution_count": null,
   "metadata": {},
   "outputs": [],
   "source": [
    "# Merge `dev` into `main`\n",
    "!nessie merge dev -b main --force"
   ]
  },
  {
   "cell_type": "code",
   "execution_count": null,
   "metadata": {},
   "outputs": [],
   "source": [
    "# List all branches with their revisions, where the revision of main=dev\n",
    "!nessie --verbose branch"
   ]
  },
  {
   "cell_type": "markdown",
   "metadata": {
    "pycharm": {
     "name": "#%% md\n"
    }
   },
   "source": [
    "Create `etl` branch\n",
    "----------------------\n",
    "In this section we'll be simulating what a nightly ETL job might do in terms of changes.\n",
    "\n",
    "- Create a branch `etl` out of `main`\n",
    "- add data to `salaries`\n",
    "- rename the table `totals_stats`\n",
    "- create table `allstar_games_stats`\n",
    "- query the tables in `etl`\n",
    "- query the tables in `main`\n",
    "- promote `etl` branch to `main`"
   ]
  },
  {
   "cell_type": "code",
   "execution_count": null,
   "metadata": {},
   "outputs": [],
   "source": [
    "# Create the `etl` branch based on `main`\n",
    "!nessie branch etl main\n",
    "\n",
    "# Table environment for `etl` branch, which will be used later on\n",
    "etl_table_env = demo_flink.table_env_for_ref(\"etl\")"
   ]
  },
  {
   "cell_type": "code",
   "execution_count": null,
   "metadata": {
    "pycharm": {
     "name": "#%%\n"
    }
   },
   "outputs": [],
   "source": [
    "# add some salaries for Kevin Durant\n",
    "etl_table_env.execute_sql(\"INSERT INTO nessie.nba.salaries \\\n",
    "                        VALUES ('2017-18', 'Golden State Warriors', '$25000000', 'Kevin Durant')\").wait()\n",
    "etl_table_env.execute_sql(\"INSERT INTO nessie.nba.salaries \\\n",
    "                        VALUES ('2018-19', 'Golden State Warriors', '$30000000', 'Kevin Durant')\").wait()\n",
    "etl_table_env.execute_sql(\"INSERT INTO nessie.nba.salaries \\\n",
    "                        VALUES ('2019-20', 'Brooklyn Nets', '$37199000', 'Kevin Durant')\").wait()\n",
    "etl_table_env.execute_sql(\"INSERT INTO nessie.nba.salaries \\\n",
    "                        VALUES ('2020-21', 'Brooklyn Nets', '$39058950', 'Kevin Durant')\").wait()"
   ]
  },
  {
   "cell_type": "code",
   "execution_count": null,
   "metadata": {},
   "outputs": [],
   "source": [
    "# Rename the table `totals_stats` to `new_total_stats`\n",
    "etl_table_env.execute_sql(\"ALTER TABLE nessie.nba.totals_stats RENAME TO nessie.nba.new_total_stats\")"
   ]
  },
  {
   "cell_type": "code",
   "execution_count": null,
   "metadata": {},
   "outputs": [],
   "source": [
    "# Creating `allstar_games_stats` table\n",
    "etl_table_env.connect(FileSystem().path(dataset['allstar_games_stats.csv']))\\\n",
    "    .with_format(OldCsv()\n",
    "                 .field('Season', DataTypes.STRING()).field(\"Age\", DataTypes.STRING()).field(\"Team\", DataTypes.STRING())\n",
    "                 .field(\"ORB\", DataTypes.STRING()).field(\"TRB\", DataTypes.STRING()).field(\"AST\", DataTypes.STRING())\n",
    "                 .field(\"STL\", DataTypes.STRING()).field(\"BLK\", DataTypes.STRING()).field(\"TOV\", DataTypes.STRING())\n",
    "                 .field(\"PF\", DataTypes.STRING()).field(\"PTS\", DataTypes.STRING()).field(\"Player\", DataTypes.STRING()))\\\n",
    "    .with_schema(Schema()\n",
    "                 .field('Season', DataTypes.STRING()).field(\"Age\", DataTypes.STRING()).field(\"Team\", DataTypes.STRING())\n",
    "                 .field(\"ORB\", DataTypes.STRING()).field(\"TRB\", DataTypes.STRING()).field(\"AST\", DataTypes.STRING())\n",
    "                 .field(\"STL\", DataTypes.STRING()).field(\"BLK\", DataTypes.STRING()).field(\"TOV\", DataTypes.STRING())\n",
    "                 .field(\"PF\", DataTypes.STRING()).field(\"PTS\", DataTypes.STRING()).field(\"Player\", DataTypes.STRING()))\\\n",
    "    .create_temporary_table('nessie.nba.allstar_games_stats_temp')\n",
    "\n",
    "etl_table_env.execute_sql(\n",
    "        \"CREATE TABLE IF NOT EXISTS nessie.nba.allstar_games_stats (Season STRING, Age STRING, \\\n",
    "        Team STRING, ORB STRING, TRB STRING, AST STRING, STL STRING, BLK STRING, TOV STRING, \\\n",
    "        PF STRING, PTS STRING, Player STRING)\").wait()\n",
    "\n",
    "tab = etl_table_env.from_path('nessie.nba.allstar_games_stats_temp')\n",
    "tab.select(tab.Season, tab.Age, tab.Team, tab.ORB, tab.TRB, tab.AST, \n",
    "           tab.STL, tab.BLK, tab.TOV, tab.PF, tab.PTS, tab.Player).execute_insert('nessie.nba.allstar_games_stats').wait()"
   ]
  },
  {
   "cell_type": "code",
   "execution_count": null,
   "metadata": {},
   "outputs": [],
   "source": [
    "# Notice how we view the data on the etl branch via @etl\n",
    "table_env.from_path('nessie.nba.`allstar_games_stats@etl`').to_pandas()"
   ]
  },
  {
   "cell_type": "code",
   "execution_count": null,
   "metadata": {},
   "outputs": [],
   "source": [
    "# Since we have been working on the `etl` branch, the `allstar_games_stats` table is not on the `main` branch\n",
    "!nessie contents --list"
   ]
  },
  {
   "cell_type": "code",
   "execution_count": null,
   "metadata": {},
   "outputs": [],
   "source": [
    "# We should see `allstar_games_stats` and the `new_total_stats` on the `etl` branch\n",
    "!nessie contents --list --ref etl"
   ]
  },
  {
   "cell_type": "code",
   "execution_count": null,
   "metadata": {
    "jupyter": {
     "outputs_hidden": false
    },
    "pycharm": {
     "name": "#%%\n"
    }
   },
   "outputs": [],
   "source": [
    "# Now merge the `etl` branch into `main`\n",
    "!nessie merge etl -b main --force"
   ]
  },
  {
   "cell_type": "code",
   "execution_count": null,
   "metadata": {
    "jupyter": {
     "outputs_hidden": false
    },
    "pycharm": {
     "name": "#%%\n"
    }
   },
   "outputs": [],
   "source": [
    "# The `etl` and `main` branch should have the same revision\n",
    "!nessie --verbose branch"
   ]
  },
  {
   "cell_type": "markdown",
   "metadata": {},
   "source": [
    "Create `experiment` branch\n",
    "--------------------------------\n",
    "As a data analyst we might want to carry out some experiments with some data, without affecting `main` in any way.\n",
    "As in the previous examples, we can just get started by creating an `experiment` branch off of `main`\n",
    "and carry out our experiment, which could consist of the following steps:\n",
    "- drop `new_totals_stats` table\n",
    "- add data to `salaries` table\n",
    "- compare `experiment` and `main` tables"
   ]
  },
  {
   "cell_type": "code",
   "execution_count": null,
   "metadata": {},
   "outputs": [],
   "source": [
    "# Create the `experiment` branch from `main`\n",
    "!nessie branch experiment main\n",
    "\n",
    "# Table environment for `experiment` branch, which will be used later on\n",
    "experiment_table_env = demo_flink.table_env_for_ref(\"experiment\")"
   ]
  },
  {
   "cell_type": "code",
   "execution_count": null,
   "metadata": {},
   "outputs": [],
   "source": [
    "# Drop the `totals_stats` table on the `experiment` branch\n",
    "experiment_table_env.execute_sql(\"DROP TABLE IF EXISTS nessie.nba.new_total_stats\")"
   ]
  },
  {
   "cell_type": "code",
   "execution_count": null,
   "metadata": {},
   "outputs": [],
   "source": [
    "# add some salaries for Dirk Nowitzki\n",
    "experiment_table_env.execute_sql(\"INSERT INTO nessie.nba.salaries \\\n",
    "                                VALUES ('2015-16', 'Dallas Mavericks', '$8333333', 'Dirk Nowitzki')\").wait()\n",
    "experiment_table_env.execute_sql(\"INSERT INTO nessie.nba.salaries \\\n",
    "                                VALUES ('2016-17', 'Dallas Mavericks', '$25000000', 'Dirk Nowitzki')\").wait()\n",
    "experiment_table_env.execute_sql(\"INSERT INTO nessie.nba.salaries \\\n",
    "                                VALUES ('2017-18', 'Dallas Mavericks', '$5000000', 'Dirk Nowitzki')\").wait()\n",
    "experiment_table_env.execute_sql(\"INSERT INTO nessie.nba.salaries \\\n",
    "                                VALUES ('2018-19', 'Dallas Mavericks', '$5000000', 'Dirk Nowitzki')\").wait()"
   ]
  },
  {
   "cell_type": "code",
   "execution_count": null,
   "metadata": {},
   "outputs": [],
   "source": [
    "# We should see the `salaries` and `allstar_games_stats` tables only (since we just dropped `new_total_stats`)\n",
    "!nessie contents --list --ref experiment"
   ]
  },
  {
   "cell_type": "code",
   "execution_count": null,
   "metadata": {
    "jupyter": {
     "outputs_hidden": false
    },
    "pycharm": {
     "name": "#%%\n"
    }
   },
   "outputs": [],
   "source": [
    "# `main` hasn't changed been changed and still has the `new_total_stats` table\n",
    "!nessie contents --list"
   ]
  },
  {
   "cell_type": "markdown",
   "metadata": {},
   "source": [
    "Let's take a look at the contents of the `salaries` table on the `experiment` branch.\n",
    "Notice the use of the `nessie` catalog and the use of `@experiment` to view data on the `experiment` branch"
   ]
  },
  {
   "cell_type": "code",
   "execution_count": null,
   "metadata": {},
   "outputs": [],
   "source": [
    "from pyflink.table.expressions import lit\n",
    "\n",
    "table_env.from_path('nessie.nba.`salaries@experiment`').select(lit(1).count).to_pandas()"
   ]
  },
  {
   "cell_type": "markdown",
   "metadata": {},
   "source": [
    "and compare to the contents of the `salaries` table on the `main` branch. Notice that we didn't have to specify `@branchName` as it defaulted\n",
    "to the `main` branch"
   ]
  },
  {
   "cell_type": "code",
   "execution_count": null,
   "metadata": {
    "pycharm": {
     "name": "#%%\n"
    }
   },
   "outputs": [],
   "source": [
    "from pyflink.table.expressions import lit\n",
    "\n",
    "table_env.from_path('nessie.nba.`salaries@main`').select(lit(1).count).to_pandas()\n"
   ]
  },
  {
   "cell_type": "code",
   "execution_count": null,
   "metadata": {},
   "outputs": [],
   "source": []
  }
 ],
 "metadata": {
  "kernelspec": {
   "display_name": "Python 3",
   "language": "python",
   "name": "python3"
  },
  "language_info": {
   "codemirror_mode": {
    "name": "ipython",
    "version": 3
   },
   "file_extension": ".py",
   "mimetype": "text/x-python",
   "name": "python",
   "nbconvert_exporter": "python",
   "pygments_lexer": "ipython3",
   "version": "3.8.0"
  }
 },
 "nbformat": 4,
 "nbformat_minor": 4
}
