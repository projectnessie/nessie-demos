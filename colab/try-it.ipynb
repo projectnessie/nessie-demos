{
 "cells": [
  {
   "cell_type": "code",
   "execution_count": null,
   "metadata": {
    "jupyter": {
     "outputs_hidden": false
    },
    "pycharm": {
     "name": "#%%\n"
    }
   },
   "outputs": [],
   "source": [
    "# TODO Remove this - only people running notebooks in an IDE without the JAVA_HOME env need this.\n",
    "import os\n",
    "# os.environ[\"JAVA_HOME\"] = \"/home/snazy/devel/openjdk/images/graalvm/jdk-11\""
   ]
  },
  {
   "cell_type": "code",
   "execution_count": null,
   "metadata": {
    "jupyter": {
     "outputs_hidden": false
    },
    "pycharm": {
     "name": "#%%\n"
    }
   },
   "outputs": [],
   "source": [
    "# FOR Google Colaboratory and Binder (mybinder.org):\n",
    "\n",
    "!pip install -i https://test.pypi.org/simple/ nessiedemo"
   ]
  },
  {
   "cell_type": "code",
   "execution_count": null,
   "metadata": {
    "pycharm": {
     "name": "#%%\n"
    }
   },
   "outputs": [],
   "source": [
    "# Testing THE Python package MANUALLY/LOCALLY :\n",
    "#\n",
    "# Run\n",
    "#     python3 -m build\n",
    "# from within the pydemolib/ directory\n",
    "\n",
    "import glob\n",
    "import os\n",
    "import subprocess\n",
    "import sys\n",
    "\n",
    "# TODO replace this block with the following, once nessiedemo is stable and released on pypi or at least pypi-test\n",
    "setup_path = \"{}/../pydemolib\".format(os.getcwd())\n",
    "pkg_file = glob.glob(\"{}/dist/nessiedemo-*.whl\".format(setup_path))[0]\n",
    "result = subprocess.run([sys.executable, \"-m\", \"pip\", \"install\", \"--force-reinstall\", pkg_file])\n",
    "if result.returncode != 0:\n",
    "    raise Exception(\"pip install failed: exit-code={}, stdout={}, stderr={}\".format(result.returncode, result.stdout, result.stderr))"
   ]
  },
  {
   "cell_type": "code",
   "execution_count": null,
   "metadata": {
    "pycharm": {
     "name": "#%%\n"
    }
   },
   "outputs": [],
   "source": [
    "# Setup the Demo: installs the required Python dependencies, downloads the sample datasets and\n",
    "# downloads + starts the Nessie-Quarkus-Runner.\n",
    "from nessiedemo.demo import setup_demo\n",
    "demo = setup_demo(\"nessie-0.5-iceberg-0.11.yml\", [\"region-nation\"])\n",
    "\n",
    "# This is separate, because NessieDemo.prepare() via .start() implicitly installs the required dependencies.\n",
    "# Downloads Spark and sets up SparkSession, SparkContext, JVM-gateway\n",
    "from nessiedemo.spark import spark_for_demo\n",
    "spark, sc, jvm, demo_spark = spark_for_demo(demo)\n"
   ]
  },
  {
   "cell_type": "code",
   "execution_count": null,
   "metadata": {
    "jupyter": {
     "outputs_hidden": false
    },
    "pycharm": {
     "name": "#%%\n"
    }
   },
   "outputs": [],
   "source": [
    "!nessie branch dev"
   ]
  },
  {
   "cell_type": "code",
   "execution_count": null,
   "metadata": {
    "pycharm": {
     "name": "#%%\n"
    }
   },
   "outputs": [],
   "source": [
    "import os\n",
    "\n",
    "spark_dev = demo_spark.session_for_ref(\"dev\")\n",
    "\n",
    "dataset = demo.fetch_dataset(\"region-nation\")\n",
    "catalog = jvm.CatalogUtil.loadCatalog(\"org.apache.iceberg.nessie.NessieCatalog\", \"tryit\", {'ref': 'dev', 'url': 'http://localhost:19120/api/v1', \"warehouse\": demo_spark.get_spark_warehouse()}, sc._jsc.hadoopConfiguration())\n",
    "\n",
    "# Creating region table\n",
    "region_name = jvm.TableIdentifier.parse(\"testing.region\")\n",
    "region_schema = jvm.Schema([\n",
    "    jvm.Types.NestedField.optional(1, \"R_REGIONKEY\", jvm.Types.LongType.get()),\n",
    "    jvm.Types.NestedField.optional(2, \"R_NAME\", jvm.Types.StringType.get()),\n",
    "    jvm.Types.NestedField.optional(3, \"R_COMMENT\", jvm.Types.StringType.get()),\n",
    "])\n",
    "region_spec = jvm.PartitionSpec.unpartitioned()\n",
    "\n",
    "region_table = catalog.createTable(region_name, region_schema, region_spec)\n",
    "region_df = spark_dev.read.load(dataset[\"region.parquet\"])\n",
    "region_df.write.format(\"iceberg\").mode(\"overwrite\").save(\"tryit.testing.region\")\n",
    "\n",
    "# Creating nation table\n",
    "nation_name = jvm.TableIdentifier.parse(\"testing.nation\")\n",
    "nation_schema = jvm.Schema([\n",
    "    jvm.Types.NestedField.optional(1, \"N_NATIONKEY\", jvm.Types.LongType.get()),\n",
    "    jvm.Types.NestedField.optional(2, \"N_NAME\", jvm.Types.StringType.get()),\n",
    "    jvm.Types.NestedField.optional(3, \"N_REGIONKEY\", jvm.Types.LongType.get()),\n",
    "    jvm.Types.NestedField.optional(4, \"N_COMMENT\", jvm.Types.StringType.get()),\n",
    "])\n",
    "nation_spec = jvm.PartitionSpec.builderFor(nation_schema).truncate(\"N_NAME\", 2).build()\n",
    "nation_table = catalog.createTable(nation_name, nation_schema, nation_spec)\n",
    "\n",
    "nation_df = spark_dev.read.load(dataset[\"nation.parquet\"])\n",
    "nation_df.write.format(\"iceberg\").mode(\"overwrite\").save(\"tryit.testing.nation\")"
   ]
  }
 ],
 "metadata": {
  "kernelspec": {
   "display_name": "Python 3",
   "language": "python",
   "name": "python3"
  },
  "language_info": {
   "codemirror_mode": {
    "name": "ipython",
    "version": 3
   },
   "file_extension": ".py",
   "mimetype": "text/x-python",
   "name": "python",
   "nbconvert_exporter": "python",
   "pygments_lexer": "ipython3",
   "version": "3.9.4"
  }
 },
 "nbformat": 4,
 "nbformat_minor": 4
}
