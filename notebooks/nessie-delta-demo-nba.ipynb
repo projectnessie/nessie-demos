{
 "cells": [
  {
   "cell_type": "markdown",
   "metadata": {},
   "source": [
    "Nessie Spark SQL Demo with NBA Dataset\n",
    "============================\n",
    "This demo showcases how to use Nessie Python API along with Spark3 from Iceberg\n",
    "\n",
    "Initialize Pyspark\n",
    "----------------------------------------------\n",
    "To get started, we will first have to do a few setup steps that give us everything we need\n",
    "to get started with Nessie. In case you're interested in the detailed setup steps for Spark, you can check out the [docs](https://projectnessie.org/tools/spark/)\n",
    "\n",
    "The Binder server has downloaded spark and some data for us as well as started a Nessie server in the background. All we have to do is start Spark\n",
    "\n",
    "The below cell starts a local Spark session with parameters needed to configure Nessie. Each config option is followed by a comment explaining its purpose.\n"
   ]
  },
  {
   "cell_type": "code",
   "execution_count": null,
   "metadata": {
    "pycharm": {
     "name": "#%%\n"
    }
   },
   "outputs": [],
   "source": [
    "import os\n",
    "import findspark\n",
    "from pyspark.sql import *\n",
    "from pyspark import SparkConf\n",
    "findspark.init()\n",
    "\n",
    "warehouse = 'file://' + os.getcwd() + '/spark_warehouse/delta'\n",
    "conf = SparkConf()\n",
    "conf.set(\"spark.jars.repositories\", \"https://storage.googleapis.com/nessie-maven\") # we add our custom fork of delta to the known repositories\n",
    "conf.set(\"spark.jars.packages\", \"org.projectnessie:nessie-deltalake:0.9.2,org.projectnessie:nessie-spark-extensions:0.9.2\") # we need delta libraries and the nessie sql extensions\n",
    "conf.set(\"spark.sql.execution.pyarrow.enabled\", \"true\")  # ensure python <-> java interactions are w/ pyarrow\n",
    "conf.set(\"spark.sql.catalog.spark_catalog\", \"org.apache.spark.sql.delta.catalog.DeltaCatalog\") # create catalog dev_catalog as a Delta catalog\n",
    "conf.set(\"spark.sql.catalog.spark_catalog.warehouse\", warehouse) # set the location for Nessie catalog to store data. Spark writes to this directory\n",
    "conf.set(\"spark.sql.catalog.spark_catalog.uri\", \"http://localhost:19120/api/v1\") # set the location of the nessie server. In this demo its running locally. There are many ways to run it (see https://projectnessie.org/try/)\n",
    "conf.set(\"spark.sql.catalog.spark_catalog.ref\", \"main\") # default branch for Nessie catalog to work on \n",
    "conf.set(\"spark.sql.catalog.spark_catalog.auth_type\", \"NONE\") # use no authorization. Options are NONE AWS BASIC and aws implies running Nessie on a lambda\n",
    "conf.set(\"spark.delta.logFileHandler.class\", \"org.projectnessie.deltalake.NessieLogFileMetaParser\")\n",
    "conf.set(\"spark.delta.logStore.class\", \"org.projectnessie.deltalake.NessieLogStore\")\n",
    "conf.set(\"spark.sql.extensions\", \"io.delta.sql.DeltaSparkSessionExtension,org.projectnessie.spark.extensions.NessieSparkSessionExtensions\") # enable the extensions for both Nessie and Delta\n",
    "spark = SparkSession.builder.config(conf=conf).getOrCreate() # finally, start up the Spark server\n",
    "print(\"Spark Running\")"
   ]
  },
  {
   "cell_type": "markdown",
   "metadata": {},
   "source": [
    "Solving Data Engineering problems with Nessie\n",
    "============================\n",
    "\n",
    "In this Demo we are a data engineer working at a fictional sports analytics blog. In order for the authors to write articles they have to have access to the relevant data. They need to be able to retrieve data quickly and be able to create charts with it.\n",
    "\n",
    "We have been asked to collect and expose some information about basketball players. We have located some data sources and are now ready to start ingesting data into our data lakehouse. We will perform the ingestion steps on a Nessie branch to test and validate the data before exposing to the analysts."
   ]
  },
  {
   "cell_type": "markdown",
   "metadata": {},
   "source": [
    "Set up Nessie branches (via Nessie CLI)\n",
    "----------------------------\n",
    "Once all dependencies are configured, we can get started with ingesting our basketball data into `Nessie` with the following steps:\n",
    "\n",
    "- Create a new branch named `dev`\n",
    "- List all branches\n",
    "\n",
    "It is worth mentioning that we don't have to explicitly create a `main` branch, since it's the default branch."
   ]
  },
  {
   "cell_type": "code",
   "execution_count": null,
   "metadata": {},
   "outputs": [],
   "source": [
    "spark.sql(\"CREATE BRANCH dev AS main\").toPandas()"
   ]
  },
  {
   "cell_type": "markdown",
   "metadata": {},
   "source": [
    "We have created the branch `dev` and we can see the branch with the Nessie `hash` its currently pointing to. \n",
    "\n",
    "Below we list all branches. Note that the auto created `main` branch already exists and both branches point at the same `hash`"
   ]
  },
  {
   "cell_type": "code",
   "execution_count": null,
   "metadata": {},
   "outputs": [],
   "source": [
    "spark.sql(\"LIST REFERENCES\").toPandas() "
   ]
  },
  {
   "cell_type": "markdown",
   "metadata": {},
   "source": [
    "Create tables under dev branch\n",
    "-------------------------------------\n",
    "Once we created the `dev` branch and verified that it exists, we can create some tables and add some data.\n",
    "\n",
    "We create two tables under the `dev` branch:\n",
    "- `salaries`\n",
    "- `totals_stats`\n",
    "\n",
    "These tables list the salaries per player per year and their stats per year.\n",
    "\n",
    "To create the data we:\n",
    "\n",
    "1. switch our branch context to dev\n",
    "2. create the table\n",
    "3. insert the data from an existing csv file. This csv file is already stored locally on the demo machine. A production use case would likely take feeds from official data sources"
   ]
  },
  {
   "cell_type": "code",
   "execution_count": null,
   "metadata": {},
   "outputs": [],
   "source": [
    "spark.sql(\"USE REFERENCE dev\")\n",
    "\n",
    "# Creating `salaries` table\n",
    "spark.sql(\"CREATE TABLE IF NOT EXISTS salaries (Season STRING, Team STRING, Salary STRING, Player STRING) USING delta LOCATION '{}/salaries'\".format(warehouse))\n",
    "\n",
    "spark.sql('CREATE OR REPLACE TEMPORARY VIEW salaries_table USING csv OPTIONS (path \"../datasets/nba/salaries.csv\", header true)')\n",
    "spark.sql('INSERT INTO salaries SELECT * FROM salaries_table')\n",
    "\n",
    "# Creating `totals_stats` table\n",
    "spark.sql(\"\"\"CREATE TABLE IF NOT EXISTS totals_stats (\n",
    "             Season STRING, Age STRING, Team STRING, ORB STRING, DRB STRING, TRB STRING, AST STRING, STL STRING, \n",
    "             BLK STRING, TOV STRING, PTS STRING, Player STRING, RSorPO STRING) \n",
    "             USING delta LOCATION '{}/total_stats'\"\"\".format(warehouse))\n",
    "spark.sql('CREATE OR REPLACE TEMPORARY VIEW stats_table USING csv OPTIONS (path \"../datasets/nba/totals_stats.csv\", header true)')\n",
    "spark.sql('INSERT INTO totals_stats SELECT * FROM stats_table').toPandas()\n"
   ]
  },
  {
   "cell_type": "markdown",
   "metadata": {},
   "source": [
    "Now we count the rows in our tables to ensure they are the same number as the csv files. "
   ]
  },
  {
   "cell_type": "code",
   "execution_count": null,
   "metadata": {
    "jupyter": {
     "outputs_hidden": false
    },
    "pycharm": {
     "name": "#%%\n"
    }
   },
   "outputs": [],
   "source": [
    "table_count = spark.sql(\"select count(*) from salaries\").toPandas().values[0][0]\n",
    "csv_count = spark.sql(\"select count(*) from salaries_table\").toPandas().values[0][0]\n",
    "assert table_count == csv_count\n",
    "print(table_count)\n",
    "\n",
    "table_count = spark.sql(\"select count(*) from totals_stats\").toPandas().values[0][0]\n",
    "csv_count = spark.sql(\"select count(*) from stats_table\").toPandas().values[0][0]\n",
    "assert table_count == csv_count\n",
    "print(table_count)"
   ]
  },
  {
   "cell_type": "markdown",
   "metadata": {},
   "source": [
    "Check generated tables\n",
    "----------------------------\n",
    "Since we have been working solely on the `dev` branch, where we created 2 tables and added some data,\n",
    "let's verify that the `main` branch was not altered by our changes.\n",
    "\n",
    "Note: `SHOW TABLES` does not work on Delta because the Delta Catalog has no concept of references. We have to use the command line instead."
   ]
  },
  {
   "cell_type": "code",
   "execution_count": null,
   "metadata": {
    "jupyter": {
     "outputs_hidden": false
    },
    "pycharm": {
     "name": "#%%\n"
    }
   },
   "outputs": [],
   "source": [
    "!nessie contents --list"
   ]
  },
  {
   "cell_type": "markdown",
   "metadata": {},
   "source": [
    "And on the `dev` branch we expect to see two tables"
   ]
  },
  {
   "cell_type": "code",
   "execution_count": null,
   "metadata": {},
   "outputs": [],
   "source": [
    "!nessie contents --list --ref dev"
   ]
  },
  {
   "cell_type": "markdown",
   "metadata": {
    "pycharm": {
     "name": "#%% md\n"
    }
   },
   "source": [
    "We can also verify that the `dev` and `main` branches point to different commits"
   ]
  },
  {
   "cell_type": "code",
   "execution_count": null,
   "metadata": {},
   "outputs": [],
   "source": [
    "spark.sql(\"LIST REFERENCES\").toPandas()"
   ]
  },
  {
   "cell_type": "markdown",
   "metadata": {},
   "source": [
    "Dev promotion into main\n",
    "-----------------------\n",
    "Once we are done with our changes on the `dev` branch, we would like to merge those changes into `main`.\n",
    "We merge `dev` into `main` via the Spark sql `merge` command.\n",
    "Both branches should be at the same revision after merging/promotion."
   ]
  },
  {
   "cell_type": "code",
   "execution_count": null,
   "metadata": {},
   "outputs": [],
   "source": [
    "spark.sql(\"MERGE BRANCH dev\").toPandas()"
   ]
  },
  {
   "cell_type": "markdown",
   "metadata": {},
   "source": [
    "We can verify the branches are at the same hash and that the `main` branch now contains the expected tables and row counts.\n",
    "\n",
    "The tables are now on `main` and ready for consumtion by our blog authors and analysts!"
   ]
  },
  {
   "cell_type": "code",
   "execution_count": null,
   "metadata": {},
   "outputs": [],
   "source": [
    "spark.sql(\"LIST REFERENCES\").toPandas()"
   ]
  },
  {
   "cell_type": "code",
   "execution_count": null,
   "metadata": {},
   "outputs": [],
   "source": [
    "!nessie contents --list"
   ]
  },
  {
   "cell_type": "code",
   "execution_count": null,
   "metadata": {},
   "outputs": [],
   "source": [
    "spark.sql(\"USE REFERENCE main\")\n",
    "table_count = spark.sql(\"select count(*) from salaries\").toPandas().values[0][0]\n",
    "csv_count = spark.sql(\"select count(*) from salaries_table\").toPandas().values[0][0]\n",
    "assert table_count == csv_count\n",
    "print(table_count)\n",
    "\n",
    "table_count = spark.sql(\"select count(*) from totals_stats\").toPandas().values[0][0]\n",
    "csv_count = spark.sql(\"select count(*) from stats_table\").toPandas().values[0][0]\n",
    "assert table_count == csv_count\n",
    "print(table_count)"
   ]
  },
  {
   "cell_type": "markdown",
   "metadata": {
    "pycharm": {
     "name": "#%% md\n"
    }
   },
   "source": [
    "Perform regular ETL on the new tables\n",
    "-------------------\n",
    "Our analysts are happy with the data and we want to now regularly ingest data to keep things up to date. Our first ETL job consists of the following:\n",
    "\n",
    "1. Update the salaries table to add new data\n",
    "2. We add `Years` column to `total_stats` table to show how many years the player was in the league\n",
    "3. We create a new table to hold information about the players appearances in all star games\n",
    "\n",
    "As always we will do this work on a branch and verify the results. This ETL job can then be set up to run nightly with new stats and salary information."
   ]
  },
  {
   "cell_type": "code",
   "execution_count": null,
   "metadata": {},
   "outputs": [],
   "source": [
    "spark.sql(\"CREATE BRANCH etl AS main\").toPandas()"
   ]
  },
  {
   "cell_type": "code",
   "execution_count": null,
   "metadata": {
    "pycharm": {
     "name": "#%%\n"
    }
   },
   "outputs": [],
   "source": [
    "# add some salaries for Kevin Durant\n",
    "spark.sql(\"USE REFERENCE etl\")\n",
    "spark.sql('''INSERT INTO salaries VALUES \n",
    "    (\"2017-18\", \"Golden State Warriors\", \"$25000000\", \"Kevin Durant\"),\n",
    "    (\"2018-19\", \"Golden State Warriors\", \"$30000000\", \"Kevin Durant\"),\n",
    "    (\"2019-20\", \"Brooklyn Nets\", \"$37199000\", \"Kevin Durant\"),\n",
    "    (\"2020-21\", \"Brooklyn Nets\", \"$39058950\", \"Kevin Durant\")\n",
    "    ''').toPandas()"
   ]
  },
  {
   "cell_type": "code",
   "execution_count": null,
   "metadata": {},
   "outputs": [],
   "source": [
    "# Adding a column in the `totals_stats` table\n",
    "spark.sql(\"ALTER TABLE totals_stats ADD COLUMNS (Years STRING)\").toPandas()"
   ]
  },
  {
   "cell_type": "code",
   "execution_count": null,
   "metadata": {},
   "outputs": [],
   "source": [
    "# Creating `allstar_games_stats` table and viewing the contents\n",
    "spark.sql(\"\"\"CREATE TABLE IF NOT EXISTS allstar_games_stats (\n",
    "          Season STRING, Age STRING, Team STRING, ORB STRING, TRB STRING, AST STRING, STL STRING, BLK STRING, \n",
    "          TOV STRING, PF STRING, PTS STRING, Player STRING) \n",
    "          USING delta LOCATION '{}/allstar_stats'\"\"\".format(warehouse))\n",
    "spark.sql('CREATE OR REPLACE TEMPORARY VIEW allstar_table USING csv OPTIONS (path \"../datasets/nba/allstar_games_stats.csv\", header true)')\n",
    "spark.sql('INSERT INTO allstar_games_stats SELECT * FROM allstar_table').toPandas()\n",
    "\n",
    "# notice how we view the data on the etl branch via @etl\n",
    "spark.sql(\"select count(*) from allstar_games_stats\").toPandas()"
   ]
  },
  {
   "cell_type": "markdown",
   "metadata": {},
   "source": [
    "We can verify that the new table isn't on the `main` branch but is present on the etl branch"
   ]
  },
  {
   "cell_type": "code",
   "execution_count": null,
   "metadata": {},
   "outputs": [],
   "source": [
    "!nessie contents --list"
   ]
  },
  {
   "cell_type": "code",
   "execution_count": null,
   "metadata": {},
   "outputs": [],
   "source": [
    "!nessie contents --list --ref etl"
   ]
  },
  {
   "cell_type": "markdown",
   "metadata": {},
   "source": [
    "Now that we are happy with the data we can again merge it into `main`"
   ]
  },
  {
   "cell_type": "code",
   "execution_count": null,
   "metadata": {
    "jupyter": {
     "outputs_hidden": false
    },
    "pycharm": {
     "name": "#%%\n"
    }
   },
   "outputs": [],
   "source": [
    "spark.sql(\"MERGE BRANCH etl\").toPandas()"
   ]
  },
  {
   "cell_type": "markdown",
   "metadata": {},
   "source": [
    "Now lets verify that the changes exist on the `main` branch and that the `main` and `etl` branches have the same `hash`"
   ]
  },
  {
   "cell_type": "code",
   "execution_count": null,
   "metadata": {
    "jupyter": {
     "outputs_hidden": false
    },
    "pycharm": {
     "name": "#%%\n"
    }
   },
   "outputs": [],
   "source": [
    "!nessie contents --list"
   ]
  },
  {
   "cell_type": "code",
   "execution_count": null,
   "metadata": {},
   "outputs": [],
   "source": [
    "spark.sql(\"LIST REFERENCES\").toPandas()"
   ]
  },
  {
   "cell_type": "code",
   "execution_count": null,
   "metadata": {},
   "outputs": [],
   "source": [
    "spark.sql(\"USE REFERENCE main\").toPandas()\n",
    "table_count = spark.sql(\"select count(*) from allstar_games_stats\").toPandas().values[0][0]\n",
    "csv_count = spark.sql(\"select count(*) from allstar_table\").toPandas().values[0][0]\n",
    "assert table_count == csv_count\n",
    "print(table_count)"
   ]
  },
  {
   "cell_type": "markdown",
   "metadata": {},
   "source": [
    "Create `experiment` branch\n",
    "--------------------------------\n",
    "As a data analyst we might want to carry out some experiments with some data, without affecting `main` in any way.\n",
    "As in the previous examples, we can just get started by creating an `experiment` branch off of `main`\n",
    "and carry out our experiment, which could consist of the following steps:\n",
    "- drop `totals_stats` table\n",
    "- add data to `salaries` table\n",
    "- compare `experiment` and `main` tables"
   ]
  },
  {
   "cell_type": "code",
   "execution_count": null,
   "metadata": {},
   "outputs": [],
   "source": [
    "spark.sql(\"CREATE BRANCH experiment AS main\").toPandas()\n",
    "spark.sql(\"USE REFERENCE experiment\").toPandas()"
   ]
  },
  {
   "cell_type": "code",
   "execution_count": null,
   "metadata": {},
   "outputs": [],
   "source": [
    "# Drop the `totals_stats` table on the `experiment` branch\n",
    "spark.sql(\"DROP TABLE IF EXISTS totals_stats\").toPandas()"
   ]
  },
  {
   "cell_type": "code",
   "execution_count": null,
   "metadata": {},
   "outputs": [],
   "source": [
    "# add some salaries for Dirk Nowitzki\n",
    "spark.sql('''INSERT INTO salaries VALUES \n",
    "    (\"2015-16\", \"Dallas Mavericks\", \"$8333333\", \"Dirk Nowitzki\"),\n",
    "    (\"2016-17\", \"Dallas Mavericks\", \"$25000000\", \"Dirk Nowitzki\"),\n",
    "    (\"2017-28\", \"Dallas Mavericks\", \"$5000000\", \"Dirk Nowitzki\"),\n",
    "    (\"2018-19\", \"Dallas Mavericks\", \"$5000000\", \"Dirk Nowitzki\")\n",
    "    ''').toPandas()"
   ]
  },
  {
   "cell_type": "code",
   "execution_count": null,
   "metadata": {},
   "outputs": [],
   "source": [
    "!nessie contents --list --ref experiment"
   ]
  },
  {
   "cell_type": "code",
   "execution_count": null,
   "metadata": {
    "jupyter": {
     "outputs_hidden": false
    },
    "pycharm": {
     "name": "#%%\n"
    }
   },
   "outputs": [],
   "source": [
    "!nessie contents --list"
   ]
  },
  {
   "cell_type": "markdown",
   "metadata": {},
   "source": [
    "Let's take a look at the contents of the `salaries` table on the `experiment` branch.\n",
    "Notice the use of the `nessie` catalog and the use of `@experiment` to view data on the `experiment` branch"
   ]
  },
  {
   "cell_type": "code",
   "execution_count": null,
   "metadata": {},
   "outputs": [],
   "source": [
    "spark.sql(\"select count(*) from salaries\").toPandas()\n"
   ]
  },
  {
   "cell_type": "markdown",
   "metadata": {},
   "source": [
    "and compare to the contents of the `salaries` table on the `main` branch. Notice that we didn't have to specify `@branchName` as it defaulted\n",
    "to the `main` branch"
   ]
  },
  {
   "cell_type": "code",
   "execution_count": null,
   "metadata": {
    "pycharm": {
     "name": "#%%\n"
    }
   },
   "outputs": [],
   "source": [
    "spark.sql(\"USE REFERENCE main\").toPandas()\n",
    "spark.sql(\"select count(*) from salaries\").toPandas()\n",
    "\n"
   ]
  },
  {
   "cell_type": "markdown",
   "metadata": {
    "pycharm": {
     "name": "#%% md\n"
    }
   },
   "source": [
    "And finally lets clean up after ourselves\n"
   ]
  },
  {
   "cell_type": "code",
   "execution_count": null,
   "metadata": {
    "pycharm": {
     "name": "#%%\n"
    }
   },
   "outputs": [],
   "source": [
    "spark.sql(\"DROP BRANCH dev\")\n",
    "spark.sql(\"DROP BRANCH etl\")\n",
    "spark.sql(\"DROP BRANCH experiment\")\n"
   ]
  }
 ],
 "metadata": {
  "kernelspec": {
   "display_name": "Python 3",
   "language": "python",
   "name": "python3"
  },
  "language_info": {
   "codemirror_mode": {
    "name": "ipython",
    "version": 3
   },
   "file_extension": ".py",
   "mimetype": "text/x-python",
   "name": "python",
   "nbconvert_exporter": "python",
   "pygments_lexer": "ipython3",
   "version": "3.8.3"
  }
 },
 "nbformat": 4,
 "nbformat_minor": 4
}
